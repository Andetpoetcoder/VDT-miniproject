{
 "cells": [
  {
   "cell_type": "code",
   "execution_count": 1,
   "id": "f499f287-3f11-472b-945d-4bdad64dfffb",
   "metadata": {},
   "outputs": [
    {
     "name": "stdout",
     "output_type": "stream",
     "text": [
      "Requirement already satisfied: pyspark in /Users/chauminhkhai/.pyenv/versions/3.12.4/lib/python3.12/site-packages (3.5.1)\n",
      "Requirement already satisfied: py4j==0.10.9.7 in /Users/chauminhkhai/.pyenv/versions/3.12.4/lib/python3.12/site-packages (from pyspark) (0.10.9.7)\n",
      "Note: you may need to restart the kernel to use updated packages.\n"
     ]
    }
   ],
   "source": [
    "pip install pyspark"
   ]
  },
  {
   "cell_type": "code",
   "execution_count": 19,
   "id": "2f23d43f-fb8d-4f3f-b223-835b11661a92",
   "metadata": {},
   "outputs": [],
   "source": [
    "from pyspark.sql import SparkSession\n",
    "import pyspark.sql"
   ]
  },
  {
   "cell_type": "code",
   "execution_count": 6,
   "id": "4f8299f2-9cbf-40ab-a6da-c628bcfc34dc",
   "metadata": {},
   "outputs": [
    {
     "name": "stderr",
     "output_type": "stream",
     "text": [
      "Setting default log level to \"WARN\".\n",
      "To adjust logging level use sc.setLogLevel(newLevel). For SparkR, use setLogLevel(newLevel).\n",
      "24/06/14 19:09:02 WARN NativeCodeLoader: Unable to load native-hadoop library for your platform... using builtin-java classes where applicable\n"
     ]
    }
   ],
   "source": [
    "spark = SparkSession.builder.appName('Practice').getOrCreate()"
   ]
  },
  {
   "cell_type": "code",
   "execution_count": 13,
   "id": "e3a70be9-ad95-4664-852b-e053e26f1fd4",
   "metadata": {},
   "outputs": [],
   "source": [
    "df= spark.read.csv(\"allstockprice.csv\")\n",
    "# Step 3: Define the new header\n",
    "new_header = [\"time\", \"open\", \"high\",\"low\",\"close\",\"volume\",\"ticker\"]  # Replace with your actual column names\n",
    "\n",
    "# Step 4: Add the header to the DataFrame\n",
    "df = df.toDF(*new_header)"
   ]
  },
  {
   "cell_type": "code",
   "execution_count": 14,
   "id": "e41d4064-7255-4c8a-9b03-2983edab6e41",
   "metadata": {},
   "outputs": [
    {
     "name": "stdout",
     "output_type": "stream",
     "text": [
      "+----------+-----+-----+-----+-----+--------+------+\n",
      "|      time| open| high|  low|close|  volume|ticker|\n",
      "+----------+-----+-----+-----+-----+--------+------+\n",
      "|2024-06-14|11400|11450|11100|11100| 7863700|   AAA|\n",
      "|2024-06-14| 8690| 8690| 8600| 8650|    7900|   AAM|\n",
      "|2024-06-14| 4310| 4350| 4250| 4270|  165800|   AAT|\n",
      "|2024-06-14|13500|13500|13100|13100|     700|   ABR|\n",
      "|2024-06-14| 5440| 5510| 5390| 5400|  520900|   ABS|\n",
      "|2024-06-14|24700|24900|24600|24600|11038000|   ACB|\n",
      "|2024-06-14|14750|14800|14550|14650|   11400|   ACC|\n",
      "|2024-06-14|48150|51800|48000|49500|  104000|   ACG|\n",
      "|2024-06-14|12950|12950|12800|12800|   46500|   ACL|\n",
      "|2024-06-14|17500|17500|16800|17000|    2900|   ADG|\n",
      "+----------+-----+-----+-----+-----+--------+------+\n",
      "only showing top 10 rows\n",
      "\n"
     ]
    }
   ],
   "source": [
    "df.show(10)"
   ]
  },
  {
   "cell_type": "code",
   "execution_count": null,
   "id": "62bd6c97-372a-4d62-8144-12b7498170f7",
   "metadata": {},
   "outputs": [],
   "source": []
  },
  {
   "cell_type": "code",
   "execution_count": 56,
   "id": "bd9c9ecb-c648-4410-9227-6c9ca4f4e413",
   "metadata": {},
   "outputs": [
    {
     "name": "stdout",
     "output_type": "stream",
     "text": [
      "+------+--------+-----+-----+-------------------------+--------------------+\n",
      "|ticker|  volume| open|close|volume_according_to_price|              change|\n",
      "+------+--------+-----+-----+-------------------------+--------------------+\n",
      "|   AAA| 7863700|11400|11100|              87287070000|  -2.631578947368425|\n",
      "|   AAM|    7900| 8690| 8650|                 68335000|-0.46029919447640566|\n",
      "|   AAT|  165800| 4310| 4270|                707966000| -0.9280742459396834|\n",
      "|   ABR|     700|13500|13100|                  9170000|  -2.962962962962962|\n",
      "|   ABS|  520900| 5440| 5400|               2812860000|  -0.735294117647058|\n",
      "|   ACB|11038000|24700|24600|             271534800000|-0.40485829959514774|\n",
      "|   ACC|   11400|14750|14650|                167010000| -0.6779661016949206|\n",
      "|   ACG|  104000|48150|49500|               5148000000|   2.803738317756995|\n",
      "|   ACL|   46500|12950|12800|                595200000| -1.1583011583011569|\n",
      "|   ADG|    2900|17500|17000|                 49300000|  -2.857142857142861|\n",
      "|   ADP|     800|29000|28900|                 23120000| -0.3448275862069039|\n",
      "|   ADS| 1701100|14950|13900|              23645290000|  -7.023411371237458|\n",
      "|   AGG| 1381500|26400|25600|              35366400000|  -3.030303030303031|\n",
      "|   AGM|  172200| 4740| 4720|                812784000| -0.4219409282700326|\n",
      "|   AGR| 2971300|22500|20950|              62248735000|  -6.888888888888886|\n",
      "|   ANV| 3407300|34900|33000|             112440900000|   -5.44412607449857|\n",
      "|   APG|  112400|14200|13500|               1517400000|  -4.929577464788736|\n",
      "|   APH| 4501000|10000| 9210|              41454210000| -7.8999999999999915|\n",
      "|   ASG|    3300|19300|19500|                 64350000|  1.0362694300518172|\n",
      "|   ASM| 3979100|12050|11750|              46754425000|  -2.489626556016603|\n",
      "+------+--------+-----+-----+-------------------------+--------------------+\n",
      "only showing top 20 rows\n",
      "\n"
     ]
    }
   ],
   "source": [
    "df.createOrReplaceTempView(\"StockTable\")\n",
    "df5=spark.sql(\"SELECT ticker,volume,open,close,BIGINT(volume)*BIGINT(close) AS volume_according_to_price, INT (close)/INT(open)*100 -100 AS change FROM StockTable\")\n",
    "df5.show()\n",
    "df5.createOrReplaceTempView(\"StockTableprocessed\")"
   ]
  },
  {
   "cell_type": "code",
   "execution_count": null,
   "id": "e737ae3f-0275-45aa-b002-37361b655657",
   "metadata": {},
   "outputs": [],
   "source": [
    "df2.write.csv('processed_stock_data.csv', header=True)"
   ]
  },
  {
   "cell_type": "code",
   "execution_count": 43,
   "id": "8f096416-860a-4fd8-995c-89aa87ea913b",
   "metadata": {},
   "outputs": [],
   "source": [
    "df2.createOrReplaceTempView(\"StockVolume\")"
   ]
  },
  {
   "cell_type": "code",
   "execution_count": 45,
   "id": "e8765cff-16e5-467d-8e14-75e2b322d716",
   "metadata": {},
   "outputs": [],
   "source": [
    "df3=spark.sql(\"SELECT ticker,volume_according_to_price FROM StockVolume ORDER BY volume_according_to_price DESC LIMIT 10\")\n",
    "df3.write.csv(\"Top10_volume.csv\",header=True)"
   ]
  },
  {
   "cell_type": "code",
   "execution_count": 61,
   "id": "2d8ae833-6534-44cd-97a1-e73e0e982f4b",
   "metadata": {},
   "outputs": [
    {
     "name": "stdout",
     "output_type": "stream",
     "text": [
      "+------+------------------+\n",
      "|ticker|            change|\n",
      "+------+------------------+\n",
      "|   CTR| 6.802244039270676|\n",
      "|   HTN| 6.766917293233092|\n",
      "|   HT1|              6.25|\n",
      "|   HVN| 5.882352941176478|\n",
      "|   DBT| 5.263157894736835|\n",
      "|   VTB|4.6728971962616725|\n",
      "|   PNC| 4.545454545454547|\n",
      "|   L10| 4.239401496259347|\n",
      "|   VTP| 4.076738609112709|\n",
      "|   SGT|3.9285714285714306|\n",
      "+------+------------------+\n",
      "\n"
     ]
    },
    {
     "ename": "AnalysisException",
     "evalue": "[PATH_ALREADY_EXISTS] Path file:/Users/chauminhkhai/VDTStockProject/Top10_change.csv already exists. Set mode as \"overwrite\" to overwrite the existing path.",
     "output_type": "error",
     "traceback": [
      "\u001b[0;31m---------------------------------------------------------------------------\u001b[0m",
      "\u001b[0;31mAnalysisException\u001b[0m                         Traceback (most recent call last)",
      "Cell \u001b[0;32mIn[61], line 3\u001b[0m\n\u001b[1;32m      1\u001b[0m df4\u001b[38;5;241m=\u001b[39mspark\u001b[38;5;241m.\u001b[39msql(\u001b[38;5;124m\"\u001b[39m\u001b[38;5;124mSELECT ticker,change FROM StockTableprocessed ORDER BY change DESC LIMIT 10\u001b[39m\u001b[38;5;124m\"\u001b[39m)\n\u001b[1;32m      2\u001b[0m df4\u001b[38;5;241m.\u001b[39mshow()\n\u001b[0;32m----> 3\u001b[0m \u001b[43mdf4\u001b[49m\u001b[38;5;241;43m.\u001b[39;49m\u001b[43mwrite\u001b[49m\u001b[38;5;241;43m.\u001b[39;49m\u001b[43msave\u001b[49m\u001b[43m(\u001b[49m\u001b[38;5;124;43m\"\u001b[39;49m\u001b[38;5;124;43mTop10_change.csv\u001b[39;49m\u001b[38;5;124;43m\"\u001b[39;49m\u001b[43m,\u001b[49m\u001b[43mheader\u001b[49m\u001b[38;5;241;43m=\u001b[39;49m\u001b[38;5;28;43;01mTrue\u001b[39;49;00m\u001b[43m,\u001b[49m\u001b[38;5;28;43mformat\u001b[39;49m\u001b[38;5;241;43m=\u001b[39;49m\u001b[38;5;124;43m\"\u001b[39;49m\u001b[38;5;124;43mcsv\u001b[39;49m\u001b[38;5;124;43m\"\u001b[39;49m\u001b[43m)\u001b[49m\n",
      "File \u001b[0;32m~/.pyenv/versions/3.12.4/lib/python3.12/site-packages/pyspark/sql/readwriter.py:1463\u001b[0m, in \u001b[0;36mDataFrameWriter.save\u001b[0;34m(self, path, format, mode, partitionBy, **options)\u001b[0m\n\u001b[1;32m   1461\u001b[0m     \u001b[38;5;28mself\u001b[39m\u001b[38;5;241m.\u001b[39m_jwrite\u001b[38;5;241m.\u001b[39msave()\n\u001b[1;32m   1462\u001b[0m \u001b[38;5;28;01melse\u001b[39;00m:\n\u001b[0;32m-> 1463\u001b[0m     \u001b[38;5;28;43mself\u001b[39;49m\u001b[38;5;241;43m.\u001b[39;49m\u001b[43m_jwrite\u001b[49m\u001b[38;5;241;43m.\u001b[39;49m\u001b[43msave\u001b[49m\u001b[43m(\u001b[49m\u001b[43mpath\u001b[49m\u001b[43m)\u001b[49m\n",
      "File \u001b[0;32m~/.pyenv/versions/3.12.4/lib/python3.12/site-packages/py4j/java_gateway.py:1322\u001b[0m, in \u001b[0;36mJavaMember.__call__\u001b[0;34m(self, *args)\u001b[0m\n\u001b[1;32m   1316\u001b[0m command \u001b[38;5;241m=\u001b[39m proto\u001b[38;5;241m.\u001b[39mCALL_COMMAND_NAME \u001b[38;5;241m+\u001b[39m\\\n\u001b[1;32m   1317\u001b[0m     \u001b[38;5;28mself\u001b[39m\u001b[38;5;241m.\u001b[39mcommand_header \u001b[38;5;241m+\u001b[39m\\\n\u001b[1;32m   1318\u001b[0m     args_command \u001b[38;5;241m+\u001b[39m\\\n\u001b[1;32m   1319\u001b[0m     proto\u001b[38;5;241m.\u001b[39mEND_COMMAND_PART\n\u001b[1;32m   1321\u001b[0m answer \u001b[38;5;241m=\u001b[39m \u001b[38;5;28mself\u001b[39m\u001b[38;5;241m.\u001b[39mgateway_client\u001b[38;5;241m.\u001b[39msend_command(command)\n\u001b[0;32m-> 1322\u001b[0m return_value \u001b[38;5;241m=\u001b[39m \u001b[43mget_return_value\u001b[49m\u001b[43m(\u001b[49m\n\u001b[1;32m   1323\u001b[0m \u001b[43m    \u001b[49m\u001b[43manswer\u001b[49m\u001b[43m,\u001b[49m\u001b[43m \u001b[49m\u001b[38;5;28;43mself\u001b[39;49m\u001b[38;5;241;43m.\u001b[39;49m\u001b[43mgateway_client\u001b[49m\u001b[43m,\u001b[49m\u001b[43m \u001b[49m\u001b[38;5;28;43mself\u001b[39;49m\u001b[38;5;241;43m.\u001b[39;49m\u001b[43mtarget_id\u001b[49m\u001b[43m,\u001b[49m\u001b[43m \u001b[49m\u001b[38;5;28;43mself\u001b[39;49m\u001b[38;5;241;43m.\u001b[39;49m\u001b[43mname\u001b[49m\u001b[43m)\u001b[49m\n\u001b[1;32m   1325\u001b[0m \u001b[38;5;28;01mfor\u001b[39;00m temp_arg \u001b[38;5;129;01min\u001b[39;00m temp_args:\n\u001b[1;32m   1326\u001b[0m     \u001b[38;5;28;01mif\u001b[39;00m \u001b[38;5;28mhasattr\u001b[39m(temp_arg, \u001b[38;5;124m\"\u001b[39m\u001b[38;5;124m_detach\u001b[39m\u001b[38;5;124m\"\u001b[39m):\n",
      "File \u001b[0;32m~/.pyenv/versions/3.12.4/lib/python3.12/site-packages/pyspark/errors/exceptions/captured.py:185\u001b[0m, in \u001b[0;36mcapture_sql_exception.<locals>.deco\u001b[0;34m(*a, **kw)\u001b[0m\n\u001b[1;32m    181\u001b[0m converted \u001b[38;5;241m=\u001b[39m convert_exception(e\u001b[38;5;241m.\u001b[39mjava_exception)\n\u001b[1;32m    182\u001b[0m \u001b[38;5;28;01mif\u001b[39;00m \u001b[38;5;129;01mnot\u001b[39;00m \u001b[38;5;28misinstance\u001b[39m(converted, UnknownException):\n\u001b[1;32m    183\u001b[0m     \u001b[38;5;66;03m# Hide where the exception came from that shows a non-Pythonic\u001b[39;00m\n\u001b[1;32m    184\u001b[0m     \u001b[38;5;66;03m# JVM exception message.\u001b[39;00m\n\u001b[0;32m--> 185\u001b[0m     \u001b[38;5;28;01mraise\u001b[39;00m converted \u001b[38;5;28;01mfrom\u001b[39;00m \u001b[38;5;28;01mNone\u001b[39;00m\n\u001b[1;32m    186\u001b[0m \u001b[38;5;28;01melse\u001b[39;00m:\n\u001b[1;32m    187\u001b[0m     \u001b[38;5;28;01mraise\u001b[39;00m\n",
      "\u001b[0;31mAnalysisException\u001b[0m: [PATH_ALREADY_EXISTS] Path file:/Users/chauminhkhai/VDTStockProject/Top10_change.csv already exists. Set mode as \"overwrite\" to overwrite the existing path."
     ]
    }
   ],
   "source": [
    "df4=spark.sql(\"SELECT ticker,change FROM StockTableprocessed ORDER BY change DESC LIMIT 10\")\n",
    "df4.show()\n",
    "df4.write.save(\"Top10_change.csv\",header=True,format=\"csv\")"
   ]
  },
  {
   "cell_type": "code",
   "execution_count": null,
   "id": "81eae5ef-95a5-4584-8a0d-08578f8ecf6b",
   "metadata": {},
   "outputs": [],
   "source": []
  }
 ],
 "metadata": {
  "kernelspec": {
   "display_name": "Python 3.12.4 latest",
   "language": "python",
   "name": "python3"
  },
  "language_info": {
   "codemirror_mode": {
    "name": "ipython",
    "version": 3
   },
   "file_extension": ".py",
   "mimetype": "text/x-python",
   "name": "python",
   "nbconvert_exporter": "python",
   "pygments_lexer": "ipython3",
   "version": "3.12.4"
  }
 },
 "nbformat": 4,
 "nbformat_minor": 5
}
